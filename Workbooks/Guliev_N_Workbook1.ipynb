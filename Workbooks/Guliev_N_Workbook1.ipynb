{
  "cells": [
    {
      "cell_type": "markdown",
      "metadata": {
        "cell_id": "040c5aea8de848ef8c67e6de9402a970",
        "deepnote_cell_type": "markdown"
      },
      "source": [
        "### 1.2 Пример\n",
        "Выведите на печать и определите тип переменной"
      ]
    },
    {
      "cell_type": "code",
      "execution_count": null,
      "metadata": {
        "cell_id": "bdafe8e42c154dbbad66bf30e6a8b559",
        "deepnote_cell_type": "code",
        "deepnote_to_be_reexecuted": false,
        "execution_millis": 2,
        "execution_start": 1682412883410,
        "source_hash": "2386ed1c"
      },
      "outputs": [],
      "source": [
        "x = 3+5.2*7\n",
        "y = None\n",
        "z = 'a', 5, 12.345, (2, 'b')\n",
        "df = [['Антонова Антонина', 34, 'ж'], ['Борисов Борис', 26, 'м']]\n",
        "A = {1, 'title', 2, 'content'}\n",
        "\n",
        "print(x, '|', type(x), '\\n', y, '|', type(y), '\\n',\n",
        "      z, '|', type(z), '\\n', df, '|', type(df), '\\n', A, '|', type(A))"
      ]
    },
    {
      "cell_type": "markdown",
      "metadata": {
        "cell_id": "e06cba72289044098d1b34ed20a87b5f",
        "deepnote_cell_type": "markdown"
      },
      "source": [
        "### 1.3 Задание\n",
        "Выведите на печать и определите тип переменной"
      ]
    },
    {
      "cell_type": "code",
      "execution_count": null,
      "metadata": {
        "cell_id": "157353cac41b4c5e917b74d1825f342b",
        "deepnote_cell_type": "code",
        "deepnote_to_be_reexecuted": false,
        "execution_millis": 7,
        "execution_start": 1682412883466,
        "source_hash": "401cc82a"
      },
      "outputs": [],
      "source": [
        "x = 5 >= 2\n",
        "A = {1, 3, 7, 8}\n",
        "B = {2, 4, 5, 10, 'apple'}\n",
        "C = A & B\n",
        "df = 'Антонова Антонина', 34, 'ж'\n",
        "z = 'type'\n",
        "D = [1, 'title', 2, 'content']"
      ]
    },
    {
      "cell_type": "code",
      "execution_count": null,
      "metadata": {},
      "outputs": [],
      "source": [
        "print(f\"x | {x} | {type(x)}\",\n",
        "      f\"A | {A} | {type(A)}\",\n",
        "      f\"B | {B} | {type(B)}\",\n",
        "      f\"C | {C} | {type(C)}\",\n",
        "      f\"df | {df} | {type(df)}\",\n",
        "      f\"z | {z} | {type(z)}\",\n",
        "      f\"D | {D} | {type(D)}\",\n",
        "      sep=\"\\n\"\n",
        "      )"
      ]
    },
    {
      "cell_type": "markdown",
      "metadata": {
        "cell_id": "3b0e8088abcc493cb6526b31d5db401e",
        "deepnote_cell_type": "markdown"
      },
      "source": [
        "### 2.2 Пример\n",
        "Вывести на экран является ли переменная х положительной, отрицательной или равна нулю"
      ]
    },
    {
      "cell_type": "code",
      "execution_count": null,
      "metadata": {
        "cell_id": "4e3f1ca0433d4c8393e1f2d2ea5c8105",
        "deepnote_cell_type": "code",
        "deepnote_to_be_reexecuted": false,
        "execution_millis": 26,
        "execution_start": 1682412883467,
        "source_hash": "2d56890e"
      },
      "outputs": [],
      "source": [
        "x = 125\n",
        "if x<0:\n",
        "    print(\"x отрицательный\")\n",
        "elif x==0:\n",
        "    print(\"x равен нулю\")\n",
        "else:\n",
        "    print(\"x положительный\")"
      ]
    },
    {
      "cell_type": "markdown",
      "metadata": {
        "cell_id": "8056d1e99a564c67a3d098b4e591b2a0",
        "deepnote_cell_type": "markdown"
      },
      "source": [
        "### 2.3 Задание\n",
        "Напишите код. Задается х, напечатать какому из интервалов принадлежит: (-infinity, -5), [-5, 5] или от (5, +infinity"
      ]
    },
    {
      "cell_type": "code",
      "execution_count": null,
      "metadata": {
        "cell_id": "af17580e8f684dc889c67fe582cd2f62",
        "deepnote_cell_type": "code",
        "deepnote_to_be_reexecuted": false,
        "execution_millis": 96873,
        "execution_start": 1682412883485,
        "source_hash": "70816763"
      },
      "outputs": [],
      "source": [
        "x = int(input())\n",
        "if x < -5:\n",
        "    print('(-infinity, -5)')\n",
        "elif -5 <= x <= 5:\n",
        "    print('[-5, 5]')\n",
        "else:\n",
        "    print('(5, +infinity)')"
      ]
    },
    {
      "cell_type": "markdown",
      "metadata": {
        "cell_id": "b7236e5e50b74b418401e465172dc29f",
        "deepnote_cell_type": "markdown"
      },
      "source": [
        "### 3.2.1 Пример\n",
        "Вывести все числа от 1 до 10 с шагом 3"
      ]
    },
    {
      "cell_type": "code",
      "execution_count": 7,
      "metadata": {
        "cell_id": "4608a4e2626f4c74a94035f970017813",
        "deepnote_cell_type": "code",
        "deepnote_to_be_reexecuted": false,
        "execution_millis": 2,
        "execution_start": 1682412980356,
        "source_hash": "eb201f6"
      },
      "outputs": [
        {
          "name": "stdout",
          "output_type": "stream",
          "text": [
            "1\n",
            "4\n",
            "7\n",
            "10\n"
          ]
        }
      ],
      "source": [
        "x = 1\n",
        "while x <= 10:\n",
        "    print(x)\n",
        "    x += 3"
      ]
    },
    {
      "cell_type": "markdown",
      "metadata": {
        "cell_id": "d73113d89f0945b89285b723524ce2be",
        "deepnote_cell_type": "markdown"
      },
      "source": [
        "### 3.2.2 Пример\n",
        "Задан список. Напечатать все элементы списка\n"
      ]
    },
    {
      "cell_type": "code",
      "execution_count": null,
      "metadata": {
        "cell_id": "16a9f041583e47d48c0e660787ebce62",
        "deepnote_cell_type": "code",
        "deepnote_to_be_reexecuted": false,
        "execution_millis": 2,
        "execution_start": 1682412980357,
        "source_hash": "8c7401ac"
      },
      "outputs": [],
      "source": [
        "models = ['KNN', 'decision tree', 'linear model']\n",
        "for model in models:\n",
        "    print(model)"
      ]
    },
    {
      "cell_type": "markdown",
      "metadata": {
        "cell_id": "1119a5b40dcd4ba887471e6ac2bc5864",
        "deepnote_cell_type": "markdown"
      },
      "source": [
        "### 3.2.3 Пример\n",
        "Создать список от 1 до 99 с шагом 7"
      ]
    },
    {
      "cell_type": "code",
      "execution_count": null,
      "metadata": {
        "cell_id": "a11a375f38f64152ae78e1930251fe9d",
        "deepnote_cell_type": "code",
        "deepnote_to_be_reexecuted": false,
        "execution_millis": 18,
        "execution_start": 1682412980357,
        "source_hash": "5b9b48d8"
      },
      "outputs": [],
      "source": [
        "list_int = range(1, 100, 7)\n",
        "print(list(list_int))"
      ]
    },
    {
      "cell_type": "markdown",
      "metadata": {
        "cell_id": "b94a7f489d8f4da188763223e20684ca",
        "deepnote_cell_type": "markdown"
      },
      "source": [
        "### 3.2.4 Пример\n",
        "Вывести на экран числа от 1 до 105 с шагом 25, используя функцию range()"
      ]
    },
    {
      "cell_type": "code",
      "execution_count": null,
      "metadata": {
        "cell_id": "063afb180bcd44d9ab680893d2fd81a8",
        "deepnote_cell_type": "code",
        "deepnote_to_be_reexecuted": false,
        "execution_millis": 0,
        "execution_start": 1682412980374,
        "source_hash": "dff6da7a"
      },
      "outputs": [],
      "source": [
        "for i in range(5, 106, 25):\n",
        "    print(i)"
      ]
    },
    {
      "cell_type": "markdown",
      "metadata": {
        "cell_id": "d09f57e67e5c40e2920463d3cfcb1ea4",
        "deepnote_cell_type": "markdown"
      },
      "source": [
        "### 3.2.5 Пример\n",
        "Необходимо получить каждый k-й элемент массива a, начиная с элемента с индексом i (включительно) и заканчивая элементом с индексом j (не включительно), c шагом 2. Или переставить все элементы в обратном порядке."
      ]
    },
    {
      "cell_type": "code",
      "execution_count": null,
      "metadata": {
        "cell_id": "10e88c03d01244b7b1dff75a3eabe542",
        "deepnote_cell_type": "code",
        "deepnote_to_be_reexecuted": false,
        "execution_millis": 1,
        "execution_start": 1682412980374,
        "source_hash": "6a78b1e"
      },
      "outputs": [],
      "source": [
        "a = [1, 2, 3, 4, 5, 6, 7, 8 ,9]\n",
        "b = a[1:7:2]\n",
        "c = a[::-1]\n",
        "print(b)\n",
        "print(c)"
      ]
    },
    {
      "cell_type": "markdown",
      "metadata": {
        "cell_id": "6b51f6b8a691443a95cb79cc8974b495",
        "deepnote_cell_type": "markdown"
      },
      "source": [
        "### 3.3.1 Задание\n",
        "Выведите числа из примера на while (3.2.1) в обратном порядке"
      ]
    },
    {
      "cell_type": "code",
      "execution_count": null,
      "metadata": {
        "cell_id": "a7c0ba1d70c4438a9639a1677b9642c6",
        "deepnote_cell_type": "code",
        "deepnote_to_be_reexecuted": false,
        "execution_millis": 1,
        "execution_start": 1682412980393,
        "source_hash": "817790c7"
      },
      "outputs": [],
      "source": [
        "x = 10\n",
        "while x >= 1:\n",
        "    print(x)\n",
        "    x -= 3"
      ]
    },
    {
      "cell_type": "markdown",
      "metadata": {
        "cell_id": "c58ede97488d48a4b0571d82514ba63a",
        "deepnote_cell_type": "markdown"
      },
      "source": [
        "### 3.3.2 Задание\n",
        "При решении задач машинного обучения часто в качестве объектов исследования выступает человек. Создайте список значимых характеристик (признаков)\n"
      ]
    },
    {
      "cell_type": "code",
      "execution_count": null,
      "metadata": {
        "cell_id": "b6929b66ba714946b4291df1c12067b9",
        "deepnote_cell_type": "code",
        "deepnote_to_be_reexecuted": false,
        "execution_millis": 2,
        "execution_start": 1682412980394,
        "source_hash": "a8e5279c"
      },
      "outputs": [],
      "source": [
        "print(['рост', 'вес', 'пол', 'курение', 'алкоголь', 'проблемы с сердцем'])"
      ]
    },
    {
      "cell_type": "markdown",
      "metadata": {
        "cell_id": "b0749bcdc1d04dcfaa7ac96383e0a66b",
        "deepnote_cell_type": "markdown"
      },
      "source": [
        "### 3.3.3 Задание\n",
        "Создать список чисел от 2 до 15 с шагом 1."
      ]
    },
    {
      "cell_type": "code",
      "execution_count": 8,
      "metadata": {
        "cell_id": "c6d5c6b7ea024c40b6a4f7b4fe51edc8",
        "deepnote_cell_type": "code",
        "deepnote_to_be_reexecuted": false,
        "execution_millis": 43,
        "execution_start": 1682412980393,
        "source_hash": "763ee53b"
      },
      "outputs": [
        {
          "name": "stdout",
          "output_type": "stream",
          "text": [
            "[2, 3, 4, 5, 6, 7, 8, 9, 10, 11, 12, 13, 14, 15]\n"
          ]
        }
      ],
      "source": [
        "a = []\n",
        "for i in range(2, 16):\n",
        "    a.append(i)\n",
        "print(a)"
      ]
    },
    {
      "cell_type": "markdown",
      "metadata": {
        "cell_id": "c96bafd962494a8b9ee81430813d799c",
        "deepnote_cell_type": "markdown"
      },
      "source": [
        "### 3.3.4 Задание\n",
        "Выведите числа из примера на for c функцией range() (3.2.4) в обратном порядке"
      ]
    },
    {
      "cell_type": "code",
      "execution_count": 9,
      "metadata": {
        "cell_id": "79ba90bee8d647b88e53f019257913bb",
        "deepnote_cell_type": "code",
        "deepnote_to_be_reexecuted": false,
        "execution_millis": 1,
        "execution_start": 1682412980436,
        "source_hash": "76cc119b"
      },
      "outputs": [
        {
          "name": "stdout",
          "output_type": "stream",
          "text": [
            "105\n",
            "80\n",
            "55\n",
            "30\n",
            "5\n"
          ]
        }
      ],
      "source": [
        "for i in range(105, 4, -25):\n",
        "    print(i)"
      ]
    },
    {
      "cell_type": "markdown",
      "metadata": {
        "cell_id": "2db1744a9d1f4137b1e7b0cfea780a96",
        "deepnote_cell_type": "markdown"
      },
      "source": [
        "### 3.3.5 Задание\n",
        "Срез. Напишите код, который все элементы массива x с четными индексами переставит в обратном порядке"
      ]
    },
    {
      "cell_type": "code",
      "execution_count": 14,
      "metadata": {
        "cell_id": "429bc49e5c414a70a3670f4660b75a07",
        "deepnote_cell_type": "code",
        "deepnote_to_be_reexecuted": false,
        "execution_millis": 92,
        "execution_start": 1682412980463,
        "source_hash": "15efef08"
      },
      "outputs": [
        {
          "name": "stdout",
          "output_type": "stream",
          "text": [
            "[8, 1, 6, 3, 4, 5, 2, 7, 0, 9]\n"
          ]
        }
      ],
      "source": [
        "x = [0, 1, 2, 3, 4, 5, 6, 7, 8, 9]\n",
        "x[0::2] = x[0::2][::-1]\n",
        "print(x)"
      ]
    },
    {
      "cell_type": "markdown",
      "metadata": {
        "cell_id": "a13fe2149c0447e1863075bd4a065935",
        "deepnote_cell_type": "markdown"
      },
      "source": [
        "### 4.2.1 Пример\n",
        "Рассчитать синус от е радиан и вывести результат на экран"
      ]
    },
    {
      "cell_type": "code",
      "execution_count": 15,
      "metadata": {
        "cell_id": "b9822632617847e5a870649ea24baa18",
        "deepnote_cell_type": "code",
        "deepnote_to_be_reexecuted": false,
        "execution_millis": 41,
        "execution_start": 1682412980514,
        "source_hash": "95f4b3fa"
      },
      "outputs": [
        {
          "name": "stdout",
          "output_type": "stream",
          "text": [
            "0.41078129050290885\n"
          ]
        }
      ],
      "source": [
        "import math as m\n",
        "print(m.sin(m.e))"
      ]
    },
    {
      "cell_type": "markdown",
      "metadata": {
        "cell_id": "8510b08ca75e4196a2cd7e91cefd1270",
        "deepnote_cell_type": "markdown"
      },
      "source": [
        "### 4.2.2 Пример\n",
        "Для функции sin(𝑥𝑒 cos(𝑥)) на интервале [0;10] с шагом 0,05 построить график функции, закрасить площадь под ним и вычислить значение"
      ]
    },
    {
      "cell_type": "code",
      "execution_count": 16,
      "metadata": {
        "cell_id": "6829338468d441eda1ea3f50170615bf",
        "deepnote_cell_type": "code",
        "deepnote_to_be_reexecuted": false,
        "execution_millis": 2176,
        "execution_start": 1682412980514,
        "source_hash": "1bbc9a4d"
      },
      "outputs": [
        {
          "name": "stdout",
          "output_type": "stream",
          "text": [
            "73.50792907748662\n"
          ]
        },
        {
          "data": {
            "image/png": "[encoded data removed]",
            "text/plain": [
              "<Figure size 640x480 with 1 Axes>"
            ]
          },
          "metadata": {},
          "output_type": "display_data"
        }
      ],
      "source": [
        "import numpy as np\n",
        "import matplotlib.pyplot as plt\n",
        "\n",
        "from numpy import trapz\n",
        "x = np.arange(0.0, 10, 0.1)\n",
        "y = np.abs(np.sin(x*np.exp(np.cos(x))))\n",
        "plt.grid()\n",
        "plt.plot(x, y, c = \"r\")\n",
        "plt.fill_between(x, y)\n",
        "\n",
        "print(trapz(y))"
      ]
    },
    {
      "cell_type": "markdown",
      "metadata": {
        "cell_id": "6dde7e124aa547f5abd499782edb6a65",
        "deepnote_cell_type": "markdown"
      },
      "source": [
        "### 4.2.3 Пример\n",
        "Дано некоторое распределение оценок в группе за экзамен. Нарисовать круговую и точечную диаграммы распределения"
      ]
    },
    {
      "cell_type": "code",
      "execution_count": null,
      "metadata": {
        "cell_id": "3ecc70d85b384092bed83bd1c5e361c3",
        "deepnote_cell_type": "code",
        "deepnote_to_be_reexecuted": false,
        "execution_millis": 363,
        "execution_start": 1682412982692,
        "source_hash": "3c4d9b45"
      },
      "outputs": [],
      "source": [
        "from matplotlib import pyplot as plt\n",
        "import numpy as np\n",
        "\n",
        "marks = ['Неуд', 'Удовл', 'Хор', 'Отл']\n",
        "\n",
        "data = [3, 7, 8, 4]\n",
        "fig = plt.figure(figsize=(10, 7)) # Размер диаграммы\n",
        "plt.pie(data, labels = marks)\n",
        "plt.show()\n",
        "plt.grid()\n",
        "plt.scatter(marks, data)"
      ]
    },
    {
      "cell_type": "markdown",
      "metadata": {
        "cell_id": "4941c78119c14a4881fe9c68cfc8eb0c",
        "deepnote_cell_type": "markdown"
      },
      "source": [
        "### 4.3.1 Задание\n",
        "Задайте массив случайных значений из интервала (0; 1).\n",
        "Рассчитайте средние и медианные значения для массива,сравните результаты, какие выводы можно сделать о значениях? "
      ]
    },
    {
      "cell_type": "code",
      "execution_count": 22,
      "metadata": {
        "cell_id": "d35f03c4814c4f189a1162ab15d33a60",
        "deepnote_cell_type": "code",
        "deepnote_to_be_reexecuted": false,
        "execution_millis": 261,
        "execution_start": 1682412983332,
        "source_hash": "14e924f"
      },
      "outputs": [
        {
          "data": {
            "text/plain": [
              "(0.42167907904958046, 0.39579694272147914)"
            ]
          },
          "execution_count": 22,
          "metadata": {},
          "output_type": "execute_result"
        }
      ],
      "source": [
        "import random\n",
        "import statistics\n",
        "x = [random.random() for i in range(10)]\n",
        "mean = sum(x) / len(x)\n",
        "median = statistics.median(x)\n",
        "mean, median"
      ]
    },
    {
      "cell_type": "markdown",
      "metadata": {},
      "source": [
        "Постройте точечную диаграмму рассения полученного ряда"
      ]
    },
    {
      "cell_type": "code",
      "execution_count": 23,
      "metadata": {},
      "outputs": [
        {
          "data": {
            "image/png": "[encoded data removed]",
            "text/plain": [
              "<Figure size 640x480 with 1 Axes>"
            ]
          },
          "metadata": {},
          "output_type": "display_data"
        }
      ],
      "source": [
        "\n",
        "fig, compare = plt.subplots()\n",
        "compare.scatter(x, x)\n",
        "plt.show()"
      ]
    },
    {
      "cell_type": "markdown",
      "metadata": {
        "cell_id": "82f64a5db48c4f9584594063c7e94786",
        "deepnote_cell_type": "markdown"
      },
      "source": [
        "### 4.3.2 Задание\n",
        "Дана функция. Создать массив из 10 значений функции (x, например, изменяется от 1 до 10). Выделить срез первой половины массива и построить графики для основного массива – линейный и для среза – точечный"
      ]
    },
    {
      "cell_type": "code",
      "execution_count": 27,
      "metadata": {
        "cell_id": "0027215778a64970aa779e9839106229",
        "deepnote_cell_type": "code",
        "deepnote_to_be_reexecuted": false,
        "execution_millis": 561,
        "execution_start": 1682413016014,
        "source_hash": "f9a67582"
      },
      "outputs": [
        {
          "data": {
            "image/png": "[encoded data removed]",
            "text/plain": [
              "<Figure size 640x480 with 1 Axes>"
            ]
          },
          "metadata": {},
          "output_type": "display_data"
        },
        {
          "data": {
            "image/png": "[encoded data removed]",
            "text/plain": [
              "<Figure size 1000x600 with 1 Axes>"
            ]
          },
          "metadata": {},
          "output_type": "display_data"
        }
      ],
      "source": [
        "from matplotlib import pyplot as plt\n",
        "import math\n",
        "\n",
        "y = []\n",
        "for x in range(1,11):\n",
        "      y.append((math.sqrt(1 + math.e ** math.sqrt(x) + math.cos(x**2)))/abs(1-(math.sin(x))**3))\n",
        "y2 = y[:5]\n",
        "plt.plot(y)\n",
        "plt.show()\n",
        "fig, ax = plt.subplots(figsize=(10, 6)) # Точечный график\n",
        "ax.scatter([i for i in range(1, 6)], y2)\n",
        "plt.show()"
      ]
    },
    {
      "cell_type": "markdown",
      "metadata": {
        "cell_id": "7a5a38c9beff4da0a7217e91b8205a0c",
        "deepnote_cell_type": "markdown"
      },
      "source": [
        "### 4.3.3 Задание\n",
        "Дана функция. Построить график на интервале (0,10) с шагом 1 с заливкой площади и найти эту площадь под ним. Для вычисления площади воспользуйте функции trapz() вычисляющей интеграл по правилу трапеции. Для ее корректной работы необходимо подключить следующие библиотеки:"
      ]
    },
    {
      "cell_type": "code",
      "execution_count": null,
      "metadata": {
        "cell_id": "b853b824a17e4d42af4424924634c080",
        "deepnote_cell_type": "code",
        "deepnote_to_be_reexecuted": false,
        "execution_millis": 386,
        "execution_start": 1682413026275,
        "source_hash": "c49c6c93"
      },
      "outputs": [],
      "source": [
        "from numpy import trapz\n",
        "import numpy as np\n",
        "\n",
        "x = np.arange(0.0, 10)  # Построить график на интервале (0,10) с шагом 1\n",
        "y = np.abs(np.cos(x * np.exp(np.cos(x) + np.log(x+1)))) # Дана функция\n",
        "\n",
        "plt.grid()\n",
        "plt.plot(x, y, c = 'r')\n",
        "plt.fill_between(x,y)\n",
        "plt.show()\n",
        "\n",
        "print(trapz(y)) # Вычисление площади "
      ]
    },
    {
      "cell_type": "markdown",
      "metadata": {
        "cell_id": "43b1c095d0f84e9ca35d0a39bfda800f",
        "deepnote_cell_type": "markdown"
      },
      "source": [
        "### ! 4.3.4 Задание\n",
        "Откройте статистические данные по стоимости акций Apple, Microsoft, Google за 12 месяцев 2021 г. Постройте 3 графика на плоскости и оцените их динамику. Подумайте, как можно улучшить читаемость результатов. Для начальных данных допустимо использовать следующий ресурс: https://finance.yahoo.com"
      ]
    },
    {
      "cell_type": "code",
      "execution_count": null,
      "metadata": {
        "cell_id": "a8ec8d9c626f48dbba763a1d831728c6",
        "deepnote_cell_type": "code",
        "deepnote_to_be_reexecuted": false,
        "execution_millis": 474,
        "execution_start": 1682413104802,
        "source_hash": "7aaecc26"
      },
      "outputs": [],
      "source": [
        "from matplotlib import pyplot as plt\n",
        "Apple = [131.96, 124.61, 136.96, 124.47, 152.83, 167.29, 170.34, 165.12, 174.01, 156.71, 148.8, 136.72, 149.9]\n",
        "Microsoft = [222.53, 235.06, 235.90, 238.47, 254.40, 251.21, 269.51, 286.36, 302.87, 282.12, 331.36, 335.15, 310.41]\n",
        "Google = [87.8, 96.2, 102.3, 104.90, 120.14, 121.10, 124.85, 135.48, 145.65, 133.55, 148.16, 144.21, 144.48]\n",
        "\n",
        "plt.plot(Apple, label='Apple')\n",
        "plt.plot(Microsoft, label='Microsoft')\n",
        "plt.plot(Google, label='Google')\n",
        "plt.legend() # вывод всех label\n",
        "plt.grid() # добавление сетки\n",
        "plt.xlabel('Месяцы 2021 года')\n",
        "plt.ylabel('Стоимость акций')\n",
        "plt.show()\n",
        "\n",
        "'''\n",
        "Указания: подписать графики осей, и не делать рандомные значения (реально с сайта взять)\n",
        "'''"
      ]
    },
    {
      "cell_type": "markdown",
      "metadata": {
        "cell_id": "7a8c152939914fd6960789fec6a1ecd4",
        "deepnote_cell_type": "markdown"
      },
      "source": [
        "### ! 4.3.5 Задание\n",
        "Создайте простейший калькулятор, включающий основные действия для двух переменных ′ + ′, ′ − ′, ′ ∙ ′, ′ ÷ ′, а также вычисление следующих функций: e^(x+y), sin(x + y), cos(x + y) , x^y"
      ]
    },
    {
      "cell_type": "code",
      "execution_count": null,
      "metadata": {
        "cell_id": "0e78c13f29e3411e804f46022b6547ba",
        "deepnote_cell_type": "code",
        "deepnote_to_be_reexecuted": false,
        "execution_millis": 15688,
        "execution_start": 1682670579984,
        "source_hash": "da3001b9"
      },
      "outputs": [],
      "source": [
        "from math import *\n",
        "\n",
        "x = int(input('Введите x: '))\n",
        "y = int(input('Введите y:'))\n",
        "action = int(input('Введите действие (1 - +, 2 - -, 3 - *, 4 - /, 5 - e^(x=y), 6 - sin(x+y), 7 - cos(x+y), 8 - x**y):'))\n",
        "\n",
        "if action == 1:\n",
        "    print(x+y)\n",
        "elif action == 2:\n",
        "    print(x-y)\n",
        "elif action == 3:\n",
        "    print(x*y)\n",
        "elif action == 4:\n",
        "    if (y == 0):\n",
        "        print('На ноль делить нельзя!')\n",
        "    else:\n",
        "        print(x/y)\n",
        "elif action == 5:\n",
        "    print(e**(x+y))\n",
        "elif action == 6:\n",
        "    print(sin(x+y))\n",
        "elif action == 7:\n",
        "    print(cos(x+y))\n",
        "elif action == 8:\n",
        "    print(x**y)\n",
        "\n",
        "\n",
        "'''\n",
        "Указания: обязательно дать выбор действия пользователя, и проверка на деления на ноль\n",
        "'''"
      ]
    }
  ],
  "metadata": {
    "deepnote": {},
    "deepnote_execution_queue": [],
    "deepnote_notebook_id": "4d3cd7c01c1f4b069537c22be1e45d60",
    "kernelspec": {
      "display_name": "Python 3",
      "language": "python",
      "name": "python3"
    },
    "language_info": {
      "codemirror_mode": {
        "name": "ipython",
        "version": 3
      },
      "file_extension": ".py",
      "mimetype": "text/x-python",
      "name": "python",
      "nbconvert_exporter": "python",
      "pygments_lexer": "ipython3",
      "version": "3.11.8"
    },
    "orig_nbformat": 2
  },
  "nbformat": 4,
  "nbformat_minor": 0
}
